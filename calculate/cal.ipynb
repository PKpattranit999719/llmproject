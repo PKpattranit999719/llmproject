{
 "cells": [
  {
   "cell_type": "markdown",
   "metadata": {},
   "source": [
    "# ใช้คำสั่ง import หรือ from ... import ... เพื่อเรียกใช้งาน"
   ]
  },
  {
   "cell_type": "code",
   "execution_count": 1,
   "metadata": {},
   "outputs": [
    {
     "name": "stdout",
     "output_type": "stream",
     "text": [
      "{'add': 15, 'divide': 2.0}\n"
     ]
    }
   ],
   "source": [
    "# นำเข้าไฟล์ math_operations.py\n",
    "import math_operations\n",
    "\n",
    "# ใช้งานฟังก์ชันจากไฟล์\n",
    "result = math_operations.process_command(\"add, divide\", 10, 5)\n",
    "print(result)\n"
   ]
  },
  {
   "cell_type": "code",
   "execution_count": 2,
   "metadata": {},
   "outputs": [
    {
     "name": "stdout",
     "output_type": "stream",
     "text": [
      "{'multiply': 48, 'divide': 3.0}\n"
     ]
    }
   ],
   "source": [
    "# เรียกฟังก์ชัน process_command\n",
    "result = math_operations.process_command(\"multiply, divide\", 12, 4)\n",
    "print(result)\n"
   ]
  },
  {
   "cell_type": "code",
   "execution_count": 5,
   "metadata": {},
   "outputs": [
    {
     "name": "stdout",
     "output_type": "stream",
     "text": [
      "{'subtract': 8}\n"
     ]
    }
   ],
   "source": [
    "# เรียกฟังก์ชัน process_command\n",
    "result = math_operations.process_command(\"subtract\", 12, 4)\n",
    "print(result)\n"
   ]
  },
  {
   "cell_type": "code",
   "execution_count": 3,
   "metadata": {},
   "outputs": [
    {
     "name": "stdout",
     "output_type": "stream",
     "text": [
      "30\n",
      "10\n"
     ]
    }
   ],
   "source": [
    "# ใช้คำสั่ง from ... import ... เพื่อเลือกฟังก์ชันเฉพาะ\n",
    "from math_operations import add, subtract\n",
    "\n",
    "# ใช้ฟังก์ชัน add และ subtract\n",
    "print(add(10, 20))       # 30\n",
    "print(subtract(20, 10))  # 10\n"
   ]
  },
  {
   "cell_type": "code",
   "execution_count": 4,
   "metadata": {},
   "outputs": [
    {
     "name": "stdout",
     "output_type": "stream",
     "text": [
      "18\n"
     ]
    }
   ],
   "source": [
    "from math_operations import subtract\n",
    "\n",
    "print(subtract(20, 2)) \n"
   ]
  }
 ],
 "metadata": {
  "kernelspec": {
   "display_name": "Python 3",
   "language": "python",
   "name": "python3"
  },
  "language_info": {
   "codemirror_mode": {
    "name": "ipython",
    "version": 3
   },
   "file_extension": ".py",
   "mimetype": "text/x-python",
   "name": "python",
   "nbconvert_exporter": "python",
   "pygments_lexer": "ipython3",
   "version": "3.12.6"
  }
 },
 "nbformat": 4,
 "nbformat_minor": 2
}
